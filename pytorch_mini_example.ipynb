{
  "nbformat": 4,
  "nbformat_minor": 0,
  "metadata": {
    "colab": {
      "provenance": []
    },
    "kernelspec": {
      "name": "python3",
      "display_name": "Python 3"
    },
    "language_info": {
      "name": "python"
    }
  },
  "cells": [
    {
      "cell_type": "markdown",
      "source": [
        "Example inspired by \n",
        "[PyTorch Tutorial](https://pytorch.org/tutorials/beginner/basics/quickstart_tutorial.html) for explaining ML terminology."
      ],
      "metadata": {
        "id": "F0QWRg6qo2Pp"
      }
    },
    {
      "cell_type": "code",
      "execution_count": null,
      "metadata": {
        "colab": {
          "base_uri": "https://localhost:8080/",
          "height": 36
        },
        "id": "huiFTKC9jZtF",
        "outputId": "d5f7f48d-2450-4b9c-cf76-ceaf0b804672"
      },
      "outputs": [
        {
          "output_type": "execute_result",
          "data": {
            "text/plain": [
              "'2.0.0+cu118'"
            ],
            "application/vnd.google.colaboratory.intrinsic+json": {
              "type": "string"
            }
          },
          "metadata": {},
          "execution_count": 62
        }
      ],
      "source": [
        "import torch\n",
        "from torch import nn\n",
        "from torch.utils.data import DataLoader\n",
        "from torchvision import datasets\n",
        "from torchvision.transforms import ToTensor\n",
        "import numpy as np\n",
        "import matplotlib.pyplot as plt\n",
        "\n",
        "bg = \"#383838\"\n",
        "plt.rcParams.update({\n",
        "    \"figure.facecolor\": bg,\n",
        "    \"figure.edgecolor\": bg,\n",
        "    \"savefig.facecolor\": bg,\n",
        "    \"savefig.edgecolor\": bg})\n",
        "\n",
        "torch.__version__"
      ]
    },
    {
      "cell_type": "code",
      "source": [
        "ds = datasets.MNIST\n",
        "# ds = datasets.FashionMNIST\n",
        "training_data = ds(\n",
        "    root=\"data\",\n",
        "    train=True,\n",
        "    download=True,\n",
        "    transform=ToTensor(),\n",
        ")\n",
        "test_data = ds(\n",
        "    root=\"data\",\n",
        "    train=False,\n",
        "    download=True,\n",
        "    transform=ToTensor(),\n",
        ")\n",
        "\n",
        "len(training_data), len(test_data)"
      ],
      "metadata": {
        "colab": {
          "base_uri": "https://localhost:8080/"
        },
        "id": "7MsNxxIrjkpS",
        "outputId": "ee111053-a7ce-4525-b323-c23484b10cc5"
      },
      "execution_count": null,
      "outputs": [
        {
          "output_type": "execute_result",
          "data": {
            "text/plain": [
              "(60000, 10000)"
            ]
          },
          "metadata": {},
          "execution_count": 63
        }
      ]
    },
    {
      "cell_type": "code",
      "source": [
        "first = training_data[0]\n",
        "first[0].shape, first[1]"
      ],
      "metadata": {
        "colab": {
          "base_uri": "https://localhost:8080/"
        },
        "id": "wUyiAfE2pZya",
        "outputId": "38609d4b-50b7-483b-8951-6fb3584b56c3"
      },
      "execution_count": null,
      "outputs": [
        {
          "output_type": "execute_result",
          "data": {
            "text/plain": [
              "(torch.Size([1, 28, 28]), 5)"
            ]
          },
          "metadata": {},
          "execution_count": 64
        }
      ]
    },
    {
      "cell_type": "code",
      "source": [
        "for i in range(10):\n",
        "  print(training_data[i][1], end=',    ')\n",
        "\n",
        "  plt.subplot(1, 10, i+1)\n",
        "  plt.axis('off')\n",
        "  plt.imshow(training_data[i][0][0], cmap='gray')"
      ],
      "metadata": {
        "colab": {
          "base_uri": "https://localhost:8080/",
          "height": 97
        },
        "id": "YtzwG8SPj_w6",
        "outputId": "f60b2c2d-0478-4bba-b51e-89327b2036b8"
      },
      "execution_count": null,
      "outputs": [
        {
          "output_type": "stream",
          "name": "stdout",
          "text": [
            "5,    0,    4,    1,    9,    2,    1,    3,    1,    4,    "
          ]
        },
        {
          "output_type": "display_data",
          "data": {
            "text/plain": [
              "<Figure size 640x480 with 10 Axes>"
            ],
            "image/png": "[encoded data removed]"
          },
          "metadata": {}
        }
      ]
    },
    {
      "cell_type": "code",
      "source": [
        "class NeuralNetwork(nn.Module):\n",
        "    def __init__(self):\n",
        "        super().__init__()\n",
        "        self.flatten = nn.Flatten()\n",
        "        self.layers = nn.Linear(28*28, 10) # for each pixel in image and each output category multiply it by weight (w), then for each category add bias (b)\n",
        "        # self.layers = nn.Sequential(\n",
        "        #     nn.Linear(28*28, 10),\n",
        "        #     nn.ReLU(),\n",
        "        #     # ...\n",
        "        # )\n",
        "\n",
        "    def forward(self, x):\n",
        "        x = self.flatten(x)\n",
        "        logits = self.layers(x)\n",
        "        return logits\n",
        "\n",
        "model = NeuralNetwork()\n",
        "model"
      ],
      "metadata": {
        "colab": {
          "base_uri": "https://localhost:8080/"
        },
        "id": "vxqhFCzqoY-J",
        "outputId": "f676e7f7-2a24-47c4-99a1-fbf1b86eca47"
      },
      "execution_count": null,
      "outputs": [
        {
          "output_type": "execute_result",
          "data": {
            "text/plain": [
              "NeuralNetwork(\n",
              "  (flatten): Flatten(start_dim=1, end_dim=-1)\n",
              "  (layers): Linear(in_features=784, out_features=10, bias=True)\n",
              ")"
            ]
          },
          "metadata": {},
          "execution_count": 66
        }
      ]
    },
    {
      "cell_type": "code",
      "source": [
        "# model.layers.weight.data.fill_(0.01)\n",
        "# model.layers.bias.data.fill_(0.01)\n",
        "model.layers.weight.data, model.layers.bias.data"
      ],
      "metadata": {
        "colab": {
          "base_uri": "https://localhost:8080/"
        },
        "id": "oGIzvKsjrYC5",
        "outputId": "4fe8f572-652d-47fc-90cc-8e336764251b"
      },
      "execution_count": null,
      "outputs": [
        {
          "output_type": "execute_result",
          "data": {
            "text/plain": [
              "(tensor([[-9.0349e-03,  5.3291e-03,  2.5955e-02,  ..., -3.3422e-03,\n",
              "          -5.6225e-03,  1.6547e-02],\n",
              "         [ 3.4052e-02,  2.3017e-02, -1.4675e-02,  ...,  1.6260e-02,\n",
              "           3.2667e-02, -4.8776e-03],\n",
              "         [-1.3981e-02, -7.2632e-03, -1.6890e-02,  ..., -2.1339e-02,\n",
              "          -3.6693e-03,  2.2111e-02],\n",
              "         ...,\n",
              "         [ 2.1930e-02, -1.7316e-02, -2.8703e-03,  ..., -3.3779e-05,\n",
              "           3.3387e-02, -2.3545e-03],\n",
              "         [ 2.8816e-03,  1.7490e-02,  2.3678e-02,  ..., -1.8226e-02,\n",
              "          -3.2558e-02,  2.4380e-03],\n",
              "         [ 1.5006e-02, -2.6897e-02,  4.0560e-03,  ...,  2.6650e-02,\n",
              "           1.7819e-02, -1.1566e-02]]),\n",
              " tensor([-0.0274,  0.0078,  0.0356,  0.0257,  0.0106, -0.0273,  0.0267, -0.0308,\n",
              "         -0.0299, -0.0142]))"
            ]
          },
          "metadata": {},
          "execution_count": 67
        }
      ]
    },
    {
      "cell_type": "code",
      "source": [
        "x = training_data[0][0]\n",
        "y = torch.zeros(10)\n",
        "y[training_data[0][1]] = 1\n",
        "y # expected output as one-hot encoded probabilities"
      ],
      "metadata": {
        "id": "AsRmVNbqrgA2",
        "colab": {
          "base_uri": "https://localhost:8080/"
        },
        "outputId": "1d23a478-69a1-466e-e40e-444e8052232b"
      },
      "execution_count": null,
      "outputs": [
        {
          "output_type": "execute_result",
          "data": {
            "text/plain": [
              "tensor([0., 0., 0., 0., 0., 1., 0., 0., 0., 0.])"
            ]
          },
          "metadata": {},
          "execution_count": 68
        }
      ]
    },
    {
      "cell_type": "code",
      "source": [
        "out = model(x)\n",
        "list(enumerate(*out.detach().numpy())) # actual output from model => logits"
      ],
      "metadata": {
        "colab": {
          "base_uri": "https://localhost:8080/"
        },
        "id": "P8IM5vU90ZtH",
        "outputId": "840d70e4-b9e4-4c70-f901-49e0427a0165"
      },
      "execution_count": null,
      "outputs": [
        {
          "output_type": "execute_result",
          "data": {
            "text/plain": [
              "[(0, 0.1771769),\n",
              " (1, -0.19832423),\n",
              " (2, -0.20448236),\n",
              " (3, 0.28688264),\n",
              " (4, 0.18993436),\n",
              " (5, 0.19386116),\n",
              " (6, 0.18575034),\n",
              " (7, -0.05542535),\n",
              " (8, -0.13201796),\n",
              " (9, -0.017122548)]"
            ]
          },
          "metadata": {},
          "execution_count": 69
        }
      ]
    },
    {
      "cell_type": "code",
      "source": [
        "torch.argmax(out) # index of max logit => predicted category"
      ],
      "metadata": {
        "colab": {
          "base_uri": "https://localhost:8080/"
        },
        "id": "nr4WC7UcvbL6",
        "outputId": "8978bf52-6bc4-4002-b86b-c28da737e8e5"
      },
      "execution_count": null,
      "outputs": [
        {
          "output_type": "execute_result",
          "data": {
            "text/plain": [
              "tensor(3)"
            ]
          },
          "metadata": {},
          "execution_count": 70
        }
      ]
    },
    {
      "cell_type": "code",
      "source": [
        "torch.softmax(out, 1) # probabilities (convert logits by \"some magic\" so that all values are between 0 and 1, and the sum is 1)"
      ],
      "metadata": {
        "colab": {
          "base_uri": "https://localhost:8080/"
        },
        "id": "I9snAkkHweys",
        "outputId": "141c2985-c63a-4617-989b-d0ddf4552abb"
      },
      "execution_count": null,
      "outputs": [
        {
          "output_type": "execute_result",
          "data": {
            "text/plain": [
              "tensor([[0.1127, 0.0774, 0.0769, 0.1258, 0.1141, 0.1146, 0.1137, 0.0893, 0.0827,\n",
              "         0.0928]], grad_fn=<SoftmaxBackward0>)"
            ]
          },
          "metadata": {},
          "execution_count": 71
        }
      ]
    },
    {
      "cell_type": "code",
      "source": [
        "-torch.log(torch.softmax(out, 1)) # negative logarithm of probabilities => entropy"
      ],
      "metadata": {
        "colab": {
          "base_uri": "https://localhost:8080/"
        },
        "id": "EtdhzLagxIVU",
        "outputId": "5adbc1c9-115b-43a3-9f10-0e9d45cfb7f3"
      },
      "execution_count": null,
      "outputs": [
        {
          "output_type": "execute_result",
          "data": {
            "text/plain": [
              "tensor([[2.1831, 2.5586, 2.5648, 2.0734, 2.1703, 2.1664, 2.1745, 2.4157, 2.4923,\n",
              "         2.3774]], grad_fn=<NegBackward0>)"
            ]
          },
          "metadata": {},
          "execution_count": 72
        }
      ]
    },
    {
      "cell_type": "code",
      "source": [
        "loss_fn = nn.CrossEntropyLoss() # a function that we want to minimize (for every model output on training data compared to desired output)\n",
        "\n",
        "optimizer = torch.optim.Adam(model.parameters(), lr=0.001) # side quest: explain stochastic gradient descent and learning rate\n",
        "\n",
        "train_dataloader = DataLoader(training_data, batch_size=100) # hyper-parametes used in training (\"search for program\") vs parameters inside the model (\"the program we found\")\n",
        "test_dataloader = DataLoader(test_data, batch_size=100)\n",
        "\n",
        "for epoch in range(1): # epochs vs batches\n",
        "    model.train()\n",
        "    for batch, (X, y) in enumerate(train_dataloader):\n",
        "        # X, y = X.to(device), y.to(device)  if we would be using GPU/MPU/TPU\n",
        "        pred = model(X)\n",
        "        loss = loss_fn(pred, y)\n",
        "        optimizer.zero_grad()\n",
        "        loss.backward()\n",
        "        optimizer.step()\n",
        "\n",
        "# model prediction after training\n",
        "out = model(x)\n",
        "list(enumerate(*out.detach().numpy()))"
      ],
      "metadata": {
        "colab": {
          "base_uri": "https://localhost:8080/"
        },
        "id": "mJekqPFo2azh",
        "outputId": "abc63553-038e-441c-f198-088d709e6eb7"
      },
      "execution_count": null,
      "outputs": [
        {
          "output_type": "execute_result",
          "data": {
            "text/plain": [
              "[(0, -0.59068465),\n",
              " (1, -3.2879238),\n",
              " (2, -1.3059332),\n",
              " (3, 2.4671628),\n",
              " (4, -5.3817625),\n",
              " (5, 2.6767466),\n",
              " (6, -2.2072687),\n",
              " (7, -0.09491294),\n",
              " (8, -0.7049214),\n",
              " (9, -2.1103463)]"
            ]
          },
          "metadata": {},
          "execution_count": 73
        }
      ]
    },
    {
      "cell_type": "code",
      "source": [
        "# 7840 weights after training, visualized as 10 images for output neurons\n",
        "# red: excitation from a pixel in input image, blue: inhibition, black: no effect\n",
        "\n",
        "w = model.layers.weight.detach().numpy()\n",
        "nmin, nmax = w.min(), w.max()\n",
        "plt.figure(figsize=(28, 28))\n",
        "for i in range(10):\n",
        "  n = w[i].reshape(28, 28)\n",
        "  r = n * (n > 0) / nmax * 255\n",
        "  b = n * (n < 0) / nmin * 255\n",
        "  g = r / 4 + b / 2\n",
        "  img = np.uint8(np.dstack((r, g, b)))\n",
        "  plt.subplot(1, 10, i + 1)\n",
        "  plt.axis('off')\n",
        "  plt.imshow(img)"
      ],
      "metadata": {
        "colab": {
          "base_uri": "https://localhost:8080/",
          "height": 172
        },
        "id": "38c03NKz8Wh0",
        "outputId": "1d476767-8839-440a-a68f-0f1921cf4185"
      },
      "execution_count": null,
      "outputs": [
        {
          "output_type": "display_data",
          "data": {
            "text/plain": [
              "<Figure size 2800x2800 with 10 Axes>"
            ],
            "image/png": "[encoded data removed]"
          },
          "metadata": {}
        }
      ]
    },
    {
      "cell_type": "code",
      "source": [
        "model.layers.bias"
      ],
      "metadata": {
        "colab": {
          "base_uri": "https://localhost:8080/"
        },
        "id": "4g8Uu0QEAMsr",
        "outputId": "4e1db780-7237-404e-a39a-ffa2539943d1"
      },
      "execution_count": null,
      "outputs": [
        {
          "output_type": "execute_result",
          "data": {
            "text/plain": [
              "Parameter containing:\n",
              "tensor([-0.1371,  0.1987, -0.0054, -0.0668,  0.0719,  0.1001, -0.0092,  0.0777,\n",
              "        -0.2176, -0.0323], requires_grad=True)"
            ]
          },
          "metadata": {},
          "execution_count": 75
        }
      ]
    },
    {
      "cell_type": "code",
      "source": [
        "np.unique(np.array([i[1] for i in training_data]), return_counts=True) # frequency of each digit in the training data for comparison with bias"
      ],
      "metadata": {
        "colab": {
          "base_uri": "https://localhost:8080/"
        },
        "id": "FRuvjJcA-SRV",
        "outputId": "d47b2359-d4e8-4417-d120-3b3ec20eb2b7"
      },
      "execution_count": null,
      "outputs": [
        {
          "output_type": "execute_result",
          "data": {
            "text/plain": [
              "(array([0, 1, 2, 3, 4, 5, 6, 7, 8, 9]),\n",
              " array([5923, 6742, 5958, 6131, 5842, 5421, 5918, 6265, 5851, 5949]))"
            ]
          },
          "metadata": {},
          "execution_count": 76
        }
      ]
    },
    {
      "cell_type": "code",
      "source": [
        "# evaluation on test data\n",
        "\n",
        "model.eval()\n",
        "test_loss, correct = 0, 0\n",
        "with torch.no_grad():\n",
        "    for X, y in test_dataloader:\n",
        "        pred = model(X)\n",
        "        test_loss += loss_fn(pred, y).item()\n",
        "        correct += (pred.argmax(1) == y).type(torch.float).sum().item()\n",
        "test_loss /= len(test_dataloader)\n",
        "correct /= len(test_dataloader.dataset)\n",
        "print(f\"Test accuracy: {(100*correct):>0.1f}%, avg loss: {test_loss:>4f}\")"
      ],
      "metadata": {
        "colab": {
          "base_uri": "https://localhost:8080/"
        },
        "id": "4tYmYmoI8dLa",
        "outputId": "bff02a2b-e0e7-4613-8e91-e7e98cf16467"
      },
      "execution_count": null,
      "outputs": [
        {
          "output_type": "stream",
          "name": "stdout",
          "text": [
            "Test accuracy: 90.3%, avg loss: 0.365307\n"
          ]
        }
      ]
    }
  ]
}